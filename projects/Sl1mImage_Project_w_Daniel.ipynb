{
  "nbformat": 4,
  "nbformat_minor": 0,
  "metadata": {
    "colab": {
      "name": "Sl1mImage Project w/ Daniel.ipynb",
      "provenance": [],
      "collapsed_sections": []
    },
    "kernelspec": {
      "name": "python3",
      "display_name": "Python 3"
    },
    "accelerator": "TPU"
  },
  "cells": [
    {
      "cell_type": "markdown",
      "metadata": {
        "id": "R_aHY614ywTb"
      },
      "source": [
        "# Image Project\n",
        "## Notebook Summary\n",
        "-Insert-\n",
        "\n",
        "An in-depth look at the data can be found at:\n",
        "https://www.cs.toronto.edu/~kriz/cifar.html\n",
        "\n",
        "##These are the steps we will follow in this notebook.\n",
        "###1.Import Necessary Libraries (James)\n",
        "###2.Read In the Data Files (James)\n",
        "###3.Organize the Data(James)\n",
        "###4. Build our Neural Network Model(Daniel)\n",
        "###5.Test Model on the Test Data(Daniel)\n",
        "###6.Graph the Data(Daniel)\n",
        "###7.Make Adjustments if Necessary(Both)\n",
        "\n"
      ]
    },
    {
      "cell_type": "markdown",
      "metadata": {
        "id": "wHASTUcW0gdx"
      },
      "source": [
        "#Step 1: Import the necessary libraries"
      ]
    },
    {
      "cell_type": "code",
      "metadata": {
        "id": "NnFvTFB68J_h"
      },
      "source": [
        "#Import the pandas library\n",
        "import pandas as pd\n",
        "\n",
        "#Import the numpy library\n",
        "import numpy as np\n",
        "\n",
        "#Import in keras and modules\n",
        "import keras\n",
        "from keras import models\n",
        "from keras import layers\n",
        "from keras.utils import to_categorical\n",
        "from keras.preprocessing.image import ImageDataGenerator\n",
        "from keras.datasets import cifar10\n",
        "\n",
        "#Import data visualization library\n",
        "import matplotlib.pyplot as plt\n",
        "\n",
        "#Import libraries from sklearn\n",
        "from sklearn.preprocessing import LabelEncoder\n",
        "from sklearn.model_selection import train_test_split\n",
        "from sklearn.metrics import accuracy_score"
      ],
      "execution_count": null,
      "outputs": []
    },
    {
      "cell_type": "markdown",
      "metadata": {
        "id": "3ftNE7Sh3YLt"
      },
      "source": [
        "#Step 2.Read in the data file"
      ]
    },
    {
      "cell_type": "code",
      "metadata": {
        "id": "MUP-aVORK6lh",
        "colab": {
          "base_uri": "https://localhost:8080/"
        },
        "outputId": "4a5a85fc-83ec-4f8c-da11-326ffbe40292"
      },
      "source": [
        "#We imported the cifar10 dataset from keras\n",
        "#Split it into your train and test as well as images and labels.\n",
        "(train_images, train_labels), (test_images, test_labels) = cifar10.load_data()\n"
      ],
      "execution_count": null,
      "outputs": [
        {
          "output_type": "stream",
          "text": [
            "Downloading data from https://www.cs.toronto.edu/~kriz/cifar-10-python.tar.gz\n",
            "170500096/170498071 [==============================] - 2s 0us/step\n"
          ],
          "name": "stdout"
        }
      ]
    },
    {
      "cell_type": "code",
      "metadata": {
        "colab": {
          "base_uri": "https://localhost:8080/"
        },
        "id": "xHA7sxpQP08Z",
        "outputId": "67f6cbd7-2ceb-40d2-d508-646fc1975989"
      },
      "source": [
        "#Lets look at the train_images array to get an idea.\n",
        "train_images[0]"
      ],
      "execution_count": null,
      "outputs": [
        {
          "output_type": "execute_result",
          "data": {
            "text/plain": [
              "array([[[ 59,  62,  63],\n",
              "        [ 43,  46,  45],\n",
              "        [ 50,  48,  43],\n",
              "        ...,\n",
              "        [158, 132, 108],\n",
              "        [152, 125, 102],\n",
              "        [148, 124, 103]],\n",
              "\n",
              "       [[ 16,  20,  20],\n",
              "        [  0,   0,   0],\n",
              "        [ 18,   8,   0],\n",
              "        ...,\n",
              "        [123,  88,  55],\n",
              "        [119,  83,  50],\n",
              "        [122,  87,  57]],\n",
              "\n",
              "       [[ 25,  24,  21],\n",
              "        [ 16,   7,   0],\n",
              "        [ 49,  27,   8],\n",
              "        ...,\n",
              "        [118,  84,  50],\n",
              "        [120,  84,  50],\n",
              "        [109,  73,  42]],\n",
              "\n",
              "       ...,\n",
              "\n",
              "       [[208, 170,  96],\n",
              "        [201, 153,  34],\n",
              "        [198, 161,  26],\n",
              "        ...,\n",
              "        [160, 133,  70],\n",
              "        [ 56,  31,   7],\n",
              "        [ 53,  34,  20]],\n",
              "\n",
              "       [[180, 139,  96],\n",
              "        [173, 123,  42],\n",
              "        [186, 144,  30],\n",
              "        ...,\n",
              "        [184, 148,  94],\n",
              "        [ 97,  62,  34],\n",
              "        [ 83,  53,  34]],\n",
              "\n",
              "       [[177, 144, 116],\n",
              "        [168, 129,  94],\n",
              "        [179, 142,  87],\n",
              "        ...,\n",
              "        [216, 184, 140],\n",
              "        [151, 118,  84],\n",
              "        [123,  92,  72]]], dtype=uint8)"
            ]
          },
          "metadata": {
            "tags": []
          },
          "execution_count": 4
        }
      ]
    },
    {
      "cell_type": "markdown",
      "metadata": {
        "id": "nknpGQ5h_tSg"
      },
      "source": [
        "#Step 3. Organize the Data"
      ]
    },
    {
      "cell_type": "code",
      "metadata": {
        "id": "BuK0Cb25QXgs"
      },
      "source": [
        "#We want to reshape the arrays to ensure they will have the same input shape for our model.\n",
        "train_images = train_images.reshape((50000, 32, 32,3))\n",
        "train_images = train_images.astype('float32') / 255\n",
        "\n",
        "test_images = test_images.reshape((10000,32, 32,3))\n",
        "test_images = test_images.astype('float32') / 255"
      ],
      "execution_count": null,
      "outputs": []
    },
    {
      "cell_type": "code",
      "metadata": {
        "id": "A8dqhWjIQsVt"
      },
      "source": [
        "#Convert the labels to categorical\n",
        "train_labels = to_categorical(train_labels)\n",
        "test_labels = to_categorical(test_labels)"
      ],
      "execution_count": null,
      "outputs": []
    },
    {
      "cell_type": "markdown",
      "metadata": {
        "id": "t35PjcD9_w83"
      },
      "source": [
        "#Step 4. Build the Model"
      ]
    },
    {
      "cell_type": "code",
      "metadata": {
        "id": "zLtLvlkMQtEi"
      },
      "source": [
        "#Build the CNN Model\n",
        "model = models.Sequential()\n",
        "model.add(layers.Conv2D(32, (3, 3), activation='relu', input_shape=(32, 32, 3)))\n",
        "model.add(layers.MaxPooling2D((2, 2)))\n",
        "model.add(layers.Conv2D(64, (3, 3), activation='relu'))\n",
        "model.add(layers.MaxPooling2D((2, 2)))\n",
        "model.add(layers.Conv2D(64, (3, 3), activation='relu'))"
      ],
      "execution_count": null,
      "outputs": []
    },
    {
      "cell_type": "code",
      "metadata": {
        "id": "0OenMxMdQxRf"
      },
      "source": [
        "model.add(layers.Flatten())\n",
        "\n",
        "# TO DO\n",
        "# ADD A 64 NODE DENSE LAYER WITH ACTIVATION RELU\n",
        "model.add(layers.Dense(64,activation='relu'))\n",
        "\n",
        "# ADD CLASSIFICATION LAYER ACTIVATION SOFTMAX\n",
        "model.add(layers.Dense(10, activation='softmax'))"
      ],
      "execution_count": null,
      "outputs": []
    },
    {
      "cell_type": "code",
      "metadata": {
        "id": "x5_L9hUxc3w7",
        "colab": {
          "base_uri": "https://localhost:8080/"
        },
        "outputId": "a95260b6-bebb-4dd0-9729-9330ac3571c5"
      },
      "source": [
        "#View our Model\n",
        "model.summary()"
      ],
      "execution_count": null,
      "outputs": [
        {
          "output_type": "stream",
          "text": [
            "Model: \"sequential\"\n",
            "_________________________________________________________________\n",
            "Layer (type)                 Output Shape              Param #   \n",
            "=================================================================\n",
            "conv2d (Conv2D)              (None, 30, 30, 32)        896       \n",
            "_________________________________________________________________\n",
            "max_pooling2d (MaxPooling2D) (None, 15, 15, 32)        0         \n",
            "_________________________________________________________________\n",
            "conv2d_1 (Conv2D)            (None, 13, 13, 64)        18496     \n",
            "_________________________________________________________________\n",
            "max_pooling2d_1 (MaxPooling2 (None, 6, 6, 64)          0         \n",
            "_________________________________________________________________\n",
            "conv2d_2 (Conv2D)            (None, 4, 4, 64)          36928     \n",
            "_________________________________________________________________\n",
            "flatten (Flatten)            (None, 1024)              0         \n",
            "_________________________________________________________________\n",
            "dense (Dense)                (None, 64)                65600     \n",
            "_________________________________________________________________\n",
            "dense_1 (Dense)              (None, 10)                650       \n",
            "=================================================================\n",
            "Total params: 122,570\n",
            "Trainable params: 122,570\n",
            "Non-trainable params: 0\n",
            "_________________________________________________________________\n"
          ],
          "name": "stdout"
        }
      ]
    },
    {
      "cell_type": "code",
      "metadata": {
        "id": "Vb0aFu3Fc8OW"
      },
      "source": [
        "#Compile the Model\n",
        "model.compile(optimizer='rmsprop',\n",
        "              loss='categorical_crossentropy',\n",
        "              metrics=['accuracy'])\n"
      ],
      "execution_count": null,
      "outputs": []
    },
    {
      "cell_type": "code",
      "metadata": {
        "id": "i2OQiM1ndHh8",
        "colab": {
          "base_uri": "https://localhost:8080/"
        },
        "outputId": "99f5c880-8763-4544-fed6-96662c7f2f81"
      },
      "source": [
        "#Fit that model bro.\n",
        "history = model.fit(\n",
        "          train_images,\n",
        "          train_labels,\n",
        "          epochs=5,\n",
        "          batch_size=64,\n",
        "          validation_split=0.2)"
      ],
      "execution_count": null,
      "outputs": [
        {
          "output_type": "stream",
          "text": [
            "Epoch 1/5\n",
            "625/625 [==============================] - 51s 81ms/step - loss: 1.6835 - accuracy: 0.3907 - val_loss: 1.4455 - val_accuracy: 0.4797\n",
            "Epoch 2/5\n",
            "625/625 [==============================] - 51s 82ms/step - loss: 1.3078 - accuracy: 0.5372 - val_loss: 1.2446 - val_accuracy: 0.5529\n",
            "Epoch 3/5\n",
            "625/625 [==============================] - 51s 81ms/step - loss: 1.1217 - accuracy: 0.6078 - val_loss: 1.1026 - val_accuracy: 0.6094\n",
            "Epoch 4/5\n",
            "625/625 [==============================] - 51s 81ms/step - loss: 0.9978 - accuracy: 0.6506 - val_loss: 0.9966 - val_accuracy: 0.6514\n",
            "Epoch 5/5\n",
            "625/625 [==============================] - 50s 81ms/step - loss: 0.9052 - accuracy: 0.6836 - val_loss: 0.9534 - val_accuracy: 0.6717\n"
          ],
          "name": "stdout"
        }
      ]
    },
    {
      "cell_type": "markdown",
      "metadata": {
        "id": "YeekxinM_6OJ"
      },
      "source": [
        "#Step 5. Test model on Test Data"
      ]
    },
    {
      "cell_type": "code",
      "metadata": {
        "colab": {
          "base_uri": "https://localhost:8080/"
        },
        "id": "HvaSKiRo8ZXL",
        "outputId": "fa66c1e1-df80-44a9-d6bb-52af72f30b4a"
      },
      "source": [
        "#Test against the test data\n",
        "test_loss, test_acc = model.evaluate(test_images, test_labels)\n",
        "test_acc"
      ],
      "execution_count": null,
      "outputs": [
        {
          "output_type": "stream",
          "text": [
            "313/313 [==============================] - 4s 13ms/step - loss: 0.9393 - accuracy: 0.6754\n"
          ],
          "name": "stdout"
        },
        {
          "output_type": "execute_result",
          "data": {
            "text/plain": [
              "0.6754000186920166"
            ]
          },
          "metadata": {
            "tags": []
          },
          "execution_count": 62
        }
      ]
    },
    {
      "cell_type": "markdown",
      "metadata": {
        "id": "DjucrMsWAMla"
      },
      "source": [
        "#Step 6. Graph the Model Accuracy and Loss"
      ]
    },
    {
      "cell_type": "code",
      "metadata": {
        "colab": {
          "base_uri": "https://localhost:8080/",
          "height": 544
        },
        "id": "ek4h0kXkSBLA",
        "outputId": "85edee6f-24b5-4a4a-8caf-522ab6ccdf44"
      },
      "source": [
        "#Create the plot to measure Training Accuracy and Validation Accuracy\n",
        "acc = history.history['accuracy']\n",
        "val_acc = history.history['val_accuracy']\n",
        "loss = history.history['loss']\n",
        "val_loss = history.history['val_loss']\n",
        "\n",
        "epochs = range(len(acc))\n",
        "\n",
        "plt.plot(epochs, acc, 'bo', label='Training acc')\n",
        "plt.plot(epochs, val_acc, 'b', label='Validation acc')\n",
        "plt.title('Training and validation accuracy')\n",
        "plt.legend()\n",
        "\n",
        "plt.figure()\n",
        "\n",
        "plt.plot(epochs, loss, 'bo', label='Training loss')\n",
        "plt.plot(epochs, val_loss, 'b', label='Validation loss')\n",
        "plt.title('Training and validation loss')\n",
        "plt.legend()\n",
        "\n",
        "plt.show()"
      ],
      "execution_count": null,
      "outputs": [
        {
          "output_type": "display_data",
          "data": {
            "image/png": "[encoded data removed]",
            "text/plain": [
              "<Figure size 432x288 with 1 Axes>"
            ]
          },
          "metadata": {
            "tags": [],
            "needs_background": "light"
          }
        },
        {
          "output_type": "display_data",
          "data": {
            "image/png": "[encoded data removed]",
            "text/plain": [
              "<Figure size 432x288 with 1 Axes>"
            ]
          },
          "metadata": {
            "tags": [],
            "needs_background": "light"
          }
        }
      ]
    },
    {
      "cell_type": "markdown",
      "metadata": {
        "id": "ycbMxlNiBF6e"
      },
      "source": [
        "#Step 7. Make Necessary Adjustments"
      ]
    },
    {
      "cell_type": "code",
      "metadata": {
        "colab": {
          "base_uri": "https://localhost:8080/"
        },
        "id": "tHPt5YQUZms1",
        "outputId": "cf3cef06-913e-42b8-c76c-0642fd16b5e3"
      },
      "source": [
        "#Decided to simply up the epochs\n",
        "history = model.fit(\n",
        "          train_images,\n",
        "          train_labels,\n",
        "          epochs=10,\n",
        "          batch_size=64,\n",
        "          validation_split=0.2)"
      ],
      "execution_count": null,
      "outputs": [
        {
          "output_type": "stream",
          "text": [
            "Epoch 1/10\n",
            "625/625 [==============================] - 51s 81ms/step - loss: 1.6815 - accuracy: 0.3897 - val_loss: 1.3836 - val_accuracy: 0.4993\n",
            "Epoch 2/10\n",
            "625/625 [==============================] - 53s 85ms/step - loss: 1.2963 - accuracy: 0.5393 - val_loss: 1.1814 - val_accuracy: 0.5896\n",
            "Epoch 3/10\n",
            "625/625 [==============================] - 49s 78ms/step - loss: 1.1116 - accuracy: 0.6110 - val_loss: 1.0416 - val_accuracy: 0.6370\n",
            "Epoch 4/10\n",
            "625/625 [==============================] - 49s 79ms/step - loss: 0.9914 - accuracy: 0.6543 - val_loss: 0.9764 - val_accuracy: 0.6615\n",
            "Epoch 5/10\n",
            "625/625 [==============================] - 50s 81ms/step - loss: 0.8919 - accuracy: 0.6896 - val_loss: 0.8998 - val_accuracy: 0.6936\n",
            "Epoch 6/10\n",
            "625/625 [==============================] - 49s 79ms/step - loss: 0.8226 - accuracy: 0.7133 - val_loss: 0.9074 - val_accuracy: 0.6862\n",
            "Epoch 7/10\n",
            "625/625 [==============================] - 48s 77ms/step - loss: 0.7558 - accuracy: 0.7350 - val_loss: 0.9094 - val_accuracy: 0.6893\n",
            "Epoch 8/10\n",
            "625/625 [==============================] - 48s 77ms/step - loss: 0.7035 - accuracy: 0.7547 - val_loss: 0.8970 - val_accuracy: 0.6929\n",
            "Epoch 9/10\n",
            "625/625 [==============================] - 51s 81ms/step - loss: 0.6512 - accuracy: 0.7747 - val_loss: 0.8977 - val_accuracy: 0.6990\n",
            "Epoch 10/10\n",
            "625/625 [==============================] - 49s 78ms/step - loss: 0.6064 - accuracy: 0.7898 - val_loss: 0.9140 - val_accuracy: 0.6985\n"
          ],
          "name": "stdout"
        }
      ]
    },
    {
      "cell_type": "code",
      "metadata": {
        "id": "ijOmG2ZrZ_P9",
        "colab": {
          "base_uri": "https://localhost:8080/"
        },
        "outputId": "a2abdb6e-0191-4b96-e1d3-8770a455a691"
      },
      "source": [
        "#Test against the test data\n",
        "test_loss, test_acc = model.evaluate(test_images, test_labels)\n",
        "test_acc"
      ],
      "execution_count": null,
      "outputs": [
        {
          "output_type": "stream",
          "text": [
            "313/313 [==============================] - 4s 14ms/step - loss: 0.9504 - accuracy: 0.6950\n"
          ],
          "name": "stdout"
        },
        {
          "output_type": "execute_result",
          "data": {
            "text/plain": [
              "0.6949999928474426"
            ]
          },
          "metadata": {
            "tags": []
          },
          "execution_count": 12
        }
      ]
    },
    {
      "cell_type": "code",
      "metadata": {
        "id": "b19_HTaDaBg1",
        "colab": {
          "base_uri": "https://localhost:8080/",
          "height": 544
        },
        "outputId": "c302ae21-0657-4fb4-9fe8-e85176d9a594"
      },
      "source": [
        "#Create the plot to measure Training Accuracy and Validation Accuracy\n",
        "acc = history.history['accuracy']\n",
        "val_acc = history.history['val_accuracy']\n",
        "loss = history.history['loss']\n",
        "val_loss = history.history['val_loss']\n",
        "\n",
        "epochs = range(len(acc))\n",
        "\n",
        "plt.plot(epochs, acc, 'bo', label='Training acc')\n",
        "plt.plot(epochs, val_acc, 'b', label='Validation acc')\n",
        "plt.title('Training and validation accuracy')\n",
        "plt.legend()\n",
        "\n",
        "plt.figure()\n",
        "\n",
        "plt.plot(epochs, loss, 'bo', label='Training loss')\n",
        "plt.plot(epochs, val_loss, 'b', label='Validation loss')\n",
        "plt.title('Training and validation loss')\n",
        "plt.legend()\n",
        "\n",
        "plt.show()"
      ],
      "execution_count": null,
      "outputs": [
        {
          "output_type": "display_data",
          "data": {
            "image/png": "[encoded data removed]",
            "text/plain": [
              "<Figure size 432x288 with 1 Axes>"
            ]
          },
          "metadata": {
            "tags": [],
            "needs_background": "light"
          }
        },
        {
          "output_type": "display_data",
          "data": {
            "image/png": "[encoded data removed]",
            "text/plain": [
              "<Figure size 432x288 with 1 Axes>"
            ]
          },
          "metadata": {
            "tags": [],
            "needs_background": "light"
          }
        }
      ]
    }
  ]
}